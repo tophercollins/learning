{
 "cells": [
  {
   "cell_type": "code",
   "execution_count": null,
   "id": "f3c66168",
   "metadata": {},
   "outputs": [],
   "source": [
    "def solution(xs, ys, xe, ye):"
   ]
  },
  {
   "cell_type": "code",
   "execution_count": null,
   "id": "b18cf475",
   "metadata": {},
   "outputs": [],
   "source": []
  },
  {
   "cell_type": "code",
   "execution_count": 21,
   "id": "d4e674be",
   "metadata": {},
   "outputs": [],
   "source": [
    "xs = -1\n",
    "ys = 0\n",
    "xe = 0\n",
    "ye = 0"
   ]
  },
  {
   "cell_type": "code",
   "execution_count": 23,
   "id": "fb9430cc",
   "metadata": {},
   "outputs": [
    {
     "ename": "SyntaxError",
     "evalue": "invalid syntax (3205697776.py, line 1)",
     "output_type": "error",
     "traceback": [
      "\u001b[1;36m  Cell \u001b[1;32mIn[23], line 1\u001b[1;36m\u001b[0m\n\u001b[1;33m    if xs,yx == 0,0:\u001b[0m\n\u001b[1;37m         ^\u001b[0m\n\u001b[1;31mSyntaxError\u001b[0m\u001b[1;31m:\u001b[0m invalid syntax\n"
     ]
    }
   ],
   "source": [
    "\n",
    "    "
   ]
  },
  {
   "cell_type": "code",
   "execution_count": null,
   "id": "fa0ca6ac",
   "metadata": {},
   "outputs": [],
   "source": []
  }
 ],
 "metadata": {
  "kernelspec": {
   "display_name": "Python 3 (ipykernel)",
   "language": "python",
   "name": "python3"
  },
  "language_info": {
   "codemirror_mode": {
    "name": "ipython",
    "version": 3
   },
   "file_extension": ".py",
   "mimetype": "text/x-python",
   "name": "python",
   "nbconvert_exporter": "python",
   "pygments_lexer": "ipython3",
   "version": "3.11.4"
  }
 },
 "nbformat": 4,
 "nbformat_minor": 5
}
