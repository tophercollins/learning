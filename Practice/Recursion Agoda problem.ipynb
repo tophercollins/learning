{
 "cells": [
  {
   "cell_type": "markdown",
   "id": "f29ad212",
   "metadata": {},
   "source": [
    "There are two operators:\n",
    "\n",
    "operator1: adds x to current number\n",
    "operator2: multiplies current number by y\n",
    "where the values of x an y are given and fixed. The starting number is 1 and the goal is to get to number t by sequentially applying operator1 and operator2. You have to maximize the number of times you use operator2. For maximum usage of operator 2, you have to minimize the number of times you use operator 1.\n",
    "\n",
    "Constraints:\n",
    "2 <= x <= 1000\n",
    "2 <= y <= 1000\n",
    "1 <= t <= 10^20\n",
    "\n",
    "Input: t, x, y\n",
    "\n",
    "Output in case there is a solution:\n",
    "List of strings where:\n",
    "\n",
    "Element 1: \"operator_add\" or \"operator_multiply\" followed by how many times you want to apply it.\n",
    "Element 2: \"operator_add\" or \"operator_multiply\" followed by how many times you want to apply it to result of previous line.\n",
    "...\n",
    "The solution should minimize the number of elements in the list. If element i corresponds to operator_add, then element i+1 corresponds to operator_multiply and vice versa.\n",
    "\n",
    "Output in case there is no solution:\n",
    "List with one element: \"no_solution\".\n",
    "\n",
    "Sample input:\n",
    "t = 54\n",
    "x = 1\n",
    "y = 3\n",
    "\n",
    "Sample output:\n",
    "[\"operator_add 1\", \"operator_multiply 3\"]\n",
    "\n",
    "Explanation: ((1 + 1) times 3^3) = 54\n",
    "Operator2 can be used maximally 3 times because 3^4 > 54. For operator2 being used three times, operator1 needs to be used at least once because 3^3 is not equal to 54.\n",
    "\n",
    "Sample input:\n",
    "t = 3\n",
    "x = 4\n",
    "y = 4\n",
    "\n",
    "Sample output:\n",
    "[\"no_solution\"]\n",
    "\n",
    "Explanation: every operator increase the number and applying any operator once already results in a number that is too big."
   ]
  },
  {
   "cell_type": "code",
   "execution_count": 36,
   "id": "dd7532b4",
   "metadata": {},
   "outputs": [],
   "source": [
    "def find_operators(t,x,y):\n",
    "    \n",
    "    if y == 1:\n",
    "        return ['no_solution']\n",
    "    \n",
    "    if t == 1:\n",
    "        return []\n",
    "    elif t < 1:\n",
    "        return ['no_solution'] \n",
    "    \n",
    "    if t % y != 0:\n",
    "        add = 0\n",
    "        while t % y != 0 and t > 1:\n",
    "            add += 1\n",
    "            t -= x\n",
    "        \n",
    "        solution = find_operators(t,x,y) + [f\"operator_add {add}\"]\n",
    "        \n",
    "        if solution[0] == 'no_solution':\n",
    "            return ['no_solution']\n",
    "        else:\n",
    "            return solution\n",
    "    else:\n",
    "        multiply = 0\n",
    "        while t % y == 0:\n",
    "            multiply += 1\n",
    "            t //= y\n",
    "        \n",
    "        solution = find_operators(t,x,y) + [f\"operator_multiply {multiply}\"]\n",
    "        \n",
    "        if solution[0] == 'no_solution':\n",
    "            return ['no_solution']\n",
    "        else:\n",
    "            return solution"
   ]
  },
  {
   "cell_type": "code",
   "execution_count": 44,
   "id": "00c98b87",
   "metadata": {},
   "outputs": [
    {
     "data": {
      "text/plain": [
       "['no_solution']"
      ]
     },
     "execution_count": 44,
     "metadata": {},
     "output_type": "execute_result"
    }
   ],
   "source": [
    "find_operators(10023,4,2)"
   ]
  },
  {
   "cell_type": "markdown",
   "id": "f30fd3c3",
   "metadata": {},
   "source": [
    "## "
   ]
  }
 ],
 "metadata": {
  "kernelspec": {
   "display_name": "Python 3 (ipykernel)",
   "language": "python",
   "name": "python3"
  },
  "language_info": {
   "codemirror_mode": {
    "name": "ipython",
    "version": 3
   },
   "file_extension": ".py",
   "mimetype": "text/x-python",
   "name": "python",
   "nbconvert_exporter": "python",
   "pygments_lexer": "ipython3",
   "version": "3.11.4"
  }
 },
 "nbformat": 4,
 "nbformat_minor": 5
}
