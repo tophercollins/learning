{
 "cells": [
  {
   "cell_type": "markdown",
   "id": "59e936c4",
   "metadata": {},
   "source": [
    "# Algorithm Exercises\n",
    "\n",
    "Using ChatGPT as an instructor we will work through a series of practice exercises on Algorithms.\n",
    "\n",
    "https://chat.openai.com/c/1ae148d5-fd2e-416b-9b06-b248c415f21d\n",
    "\n",
    "\n",
    "## Exercise: Two Sum Problem\n",
    "Given an array of integers, find two numbers that add up to a specific target sum. You need to return the indices of the two numbers.\n",
    "\n",
    "#### Example:\n",
    "Input: nums = [2, 7, 11, 15], target = 9\n",
    "Output: [0, 1] (Because nums[0] + nums[1] equals 9)"
   ]
  },
  {
   "cell_type": "code",
   "execution_count": 76,
   "id": "76051e4c",
   "metadata": {},
   "outputs": [],
   "source": [
    "nums = [2,7,11,15]\n",
    "target = 9"
   ]
  },
  {
   "cell_type": "code",
   "execution_count": 77,
   "id": "ffefc4ec",
   "metadata": {},
   "outputs": [],
   "source": [
    "def two_sum(nums, target):\n",
    "    first_counter = 0\n",
    "    # Loop through first numbers\n",
    "    for first in nums:\n",
    "        second_counter = 0\n",
    "        # Loop through remaining numbers\n",
    "        for second in nums:\n",
    "            # Cannot be the same as first number\n",
    "            if second_counter > first_counter:\n",
    "                # Check sum\n",
    "                if first + second == target:\n",
    "                    # If success, return the indices of both number\n",
    "                    return (first_counter,second_counter)\n",
    "            # Adjust second_counter\n",
    "            second_counter += 1                 \n",
    "        # Adjust first counter    \n",
    "        first_counter += 1\n",
    "\n",
    "    return None"
   ]
  },
  {
   "cell_type": "code",
   "execution_count": 78,
   "id": "9fad4f4d",
   "metadata": {},
   "outputs": [
    {
     "data": {
      "text/plain": [
       "(0, 1)"
      ]
     },
     "execution_count": 78,
     "metadata": {},
     "output_type": "execute_result"
    }
   ],
   "source": [
    "two_sum(nums, target)"
   ]
  },
  {
   "cell_type": "code",
   "execution_count": 79,
   "id": "ebc59d91",
   "metadata": {},
   "outputs": [
    {
     "data": {
      "text/plain": [
       "(0, 3)"
      ]
     },
     "execution_count": 79,
     "metadata": {},
     "output_type": "execute_result"
    }
   ],
   "source": [
    "two_sum([3, 1, 4, 6, 5],9)"
   ]
  },
  {
   "cell_type": "code",
   "execution_count": 80,
   "id": "9fc3d73f",
   "metadata": {},
   "outputs": [
    {
     "data": {
      "text/plain": [
       "(0, 3)"
      ]
     },
     "execution_count": 80,
     "metadata": {},
     "output_type": "execute_result"
    }
   ],
   "source": [
    "two_sum([5,10,15,20],25)"
   ]
  },
  {
   "cell_type": "markdown",
   "id": "31705be3",
   "metadata": {},
   "source": [
    "## Exercise: Reverse a String\n",
    "Write a function that takes a string as input and returns the string reversed.\n",
    "\n",
    "#### Example:\n",
    "Input: \"hello\"\n",
    "Output: \"olleh\""
   ]
  },
  {
   "cell_type": "code",
   "execution_count": 81,
   "id": "ee0e37d0",
   "metadata": {},
   "outputs": [],
   "source": [
    "input = \"hello\""
   ]
  },
  {
   "cell_type": "code",
   "execution_count": 82,
   "id": "c1a96cce",
   "metadata": {},
   "outputs": [
    {
     "data": {
      "text/plain": [
       "5"
      ]
     },
     "execution_count": 82,
     "metadata": {},
     "output_type": "execute_result"
    }
   ],
   "source": [
    "len(input)"
   ]
  },
  {
   "cell_type": "code",
   "execution_count": 83,
   "id": "00c6f91a",
   "metadata": {},
   "outputs": [],
   "source": [
    "def reverse_a_string(string):\n",
    "    output = \"\"\n",
    "    for counter in range(len(string)):\n",
    "        output += input[-(counter+1)]\n",
    "    return output"
   ]
  },
  {
   "cell_type": "code",
   "execution_count": 84,
   "id": "b78e0f76",
   "metadata": {},
   "outputs": [
    {
     "data": {
      "text/plain": [
       "'olleh'"
      ]
     },
     "execution_count": 84,
     "metadata": {},
     "output_type": "execute_result"
    }
   ],
   "source": [
    "reverse_a_string(input)"
   ]
  },
  {
   "cell_type": "markdown",
   "id": "8f1f169c",
   "metadata": {},
   "source": [
    "## Exercise: Longest Common Prefix\n",
    "Write a function that takes an array of strings as input and returns the longest common prefix among those strings. If there is no common prefix, return an empty string.\n",
    "\n",
    "#### Example:\n",
    "Input: [\"flower\", \"flow\", \"flight\"]\n",
    "Output: \"fl\""
   ]
  },
  {
   "cell_type": "code",
   "execution_count": 85,
   "id": "c50177bd",
   "metadata": {},
   "outputs": [
    {
     "name": "stdout",
     "output_type": "stream",
     "text": [
      "0 f\n",
      "1 l\n",
      "2 o\n",
      "3 w\n",
      "4 e\n",
      "5 r\n"
     ]
    }
   ],
   "source": [
    "for index, letter in enumerate('flower'):\n",
    "    print(index, letter)"
   ]
  },
  {
   "cell_type": "code",
   "execution_count": 86,
   "id": "03e00b43",
   "metadata": {},
   "outputs": [],
   "source": [
    "def longest_common_prefix(array):\n",
    "    lcp = \"\"\n",
    "    base_word = array[0]\n",
    "    for index, letter in enumerate(base_word):\n",
    "        extra_letters = 0\n",
    "        in_all = True\n",
    "        while in_all == True:\n",
    "            for word in array:\n",
    "                if base_word[index:index+extra_letters+1] not in word:\n",
    "                    return lcp\n",
    "            if in_all == True:\n",
    "                lcp += base_word[index+extra_letters]\n",
    "                extra_letters += 1\n",
    "    return lcp"
   ]
  },
  {
   "cell_type": "code",
   "execution_count": 87,
   "id": "ca3db6bb",
   "metadata": {},
   "outputs": [
    {
     "data": {
      "text/plain": [
       "'fl'"
      ]
     },
     "execution_count": 87,
     "metadata": {},
     "output_type": "execute_result"
    }
   ],
   "source": [
    "longest_common_prefix([\"flower\",\"flowe\",\"flight\"])"
   ]
  },
  {
   "cell_type": "code",
   "execution_count": 88,
   "id": "369c4211",
   "metadata": {},
   "outputs": [
    {
     "data": {
      "text/plain": [
       "''"
      ]
     },
     "execution_count": 88,
     "metadata": {},
     "output_type": "execute_result"
    }
   ],
   "source": [
    "longest_common_prefix([\"dog\", \"cat\", \"fish\"])"
   ]
  },
  {
   "cell_type": "code",
   "execution_count": 89,
   "id": "bac16a64",
   "metadata": {},
   "outputs": [
    {
     "data": {
      "text/plain": [
       "'program'"
      ]
     },
     "execution_count": 89,
     "metadata": {},
     "output_type": "execute_result"
    }
   ],
   "source": [
    "longest_common_prefix([\"programming\", \"programmer\", \"program\"])"
   ]
  }
 ],
 "metadata": {
  "kernelspec": {
   "display_name": "Python 3 (ipykernel)",
   "language": "python",
   "name": "python3"
  },
  "language_info": {
   "codemirror_mode": {
    "name": "ipython",
    "version": 3
   },
   "file_extension": ".py",
   "mimetype": "text/x-python",
   "name": "python",
   "nbconvert_exporter": "python",
   "pygments_lexer": "ipython3",
   "version": "3.11.4"
  }
 },
 "nbformat": 4,
 "nbformat_minor": 5
}
