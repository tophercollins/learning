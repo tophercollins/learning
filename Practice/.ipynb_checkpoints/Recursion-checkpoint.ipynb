{
 "cells": [
  {
   "cell_type": "markdown",
   "id": "de6f8780",
   "metadata": {},
   "source": [
    "1. Write a Python program to calculate the sum of a list of numbers."
   ]
  },
  {
   "cell_type": "code",
   "execution_count": 18,
   "id": "159e4421",
   "metadata": {},
   "outputs": [
    {
     "name": "stdout",
     "output_type": "stream",
     "text": [
      "24\n"
     ]
    }
   ],
   "source": [
    "def list_sum(num_List):\n",
    "    if len(num_List) == 1:\n",
    "        return num_List[0]\n",
    "    else:\n",
    "        return num_List[0] + list_sum(num_List[1:])\n",
    "        \n",
    "print(list_sum([2, 4, 5, 6, 7]))\n"
   ]
  },
  {
   "cell_type": "markdown",
   "id": "648070f2",
   "metadata": {},
   "source": [
    "1) Factorial\n",
    "\n",
    "Write a recursive function factorial(n) that takes in a positive integer n, and returns the factorial of n (1 x 2 x 3 x … x n)"
   ]
  },
  {
   "cell_type": "code",
   "execution_count": 23,
   "id": "669fdde4",
   "metadata": {},
   "outputs": [],
   "source": [
    "def factorial(n):\n",
    "    if n <= 1:\n",
    "        return 1\n",
    "    else:\n",
    "        return n * factorial(n-1)"
   ]
  },
  {
   "cell_type": "code",
   "execution_count": 31,
   "id": "d3fa815a",
   "metadata": {},
   "outputs": [
    {
     "data": {
      "text/plain": [
       "40320"
      ]
     },
     "execution_count": 31,
     "metadata": {},
     "output_type": "execute_result"
    }
   ],
   "source": [
    "factorial(8)"
   ]
  },
  {
   "cell_type": "markdown",
   "id": "8842d59f",
   "metadata": {},
   "source": [
    "2) Summation\n",
    "\n",
    "Write a recursive function summation(n) that takes in a positive integer n, and returns the sum of numbers from 1 to n."
   ]
  },
  {
   "cell_type": "code",
   "execution_count": 33,
   "id": "ebef2281",
   "metadata": {},
   "outputs": [],
   "source": [
    "def summation(n):\n",
    "    if n == 1:\n",
    "        return n\n",
    "    else:\n",
    "        return n + summation(n-1)"
   ]
  },
  {
   "cell_type": "code",
   "execution_count": 34,
   "id": "2f4a56d2",
   "metadata": {},
   "outputs": [
    {
     "data": {
      "text/plain": [
       "36"
      ]
     },
     "execution_count": 34,
     "metadata": {},
     "output_type": "execute_result"
    }
   ],
   "source": [
    "summation(1)  # 1\n",
    "summation(2)  # 3\n",
    "summation(3)  # 6\n",
    "summation(4)  # 10\n",
    "summation(5)  # 15\n",
    "summation(6)  # 21\n",
    "summation(7)  # 28\n",
    "summation(8)  # 36"
   ]
  },
  {
   "cell_type": "code",
   "execution_count": 1,
   "id": "2c917182",
   "metadata": {},
   "outputs": [],
   "source": [
    "def factorial(n):\n",
    "    if n == 1:\n",
    "        return 1\n",
    "    else:\n",
    "        return n * factorial(n-1)"
   ]
  },
  {
   "cell_type": "code",
   "execution_count": 2,
   "id": "270dd6e5",
   "metadata": {},
   "outputs": [
    {
     "data": {
      "text/plain": [
       "120"
      ]
     },
     "execution_count": 2,
     "metadata": {},
     "output_type": "execute_result"
    }
   ],
   "source": [
    "factorial(5)"
   ]
  },
  {
   "cell_type": "code",
   "execution_count": 13,
   "id": "b43d4b1c",
   "metadata": {},
   "outputs": [],
   "source": [
    "def fibonnaci(n):\n",
    "    if n <= 0:\n",
    "        return 0\n",
    "    elif n == 1:\n",
    "        return 1\n",
    "    else:\n",
    "        return fibonnaci(n-1) + fibonnaci(n-2)\n",
    "    "
   ]
  },
  {
   "cell_type": "code",
   "execution_count": 12,
   "id": "e00dbe6c",
   "metadata": {},
   "outputs": [
    {
     "data": {
      "text/plain": [
       "13"
      ]
     },
     "execution_count": 12,
     "metadata": {},
     "output_type": "execute_result"
    }
   ],
   "source": [
    "fibonnaci(7)"
   ]
  },
  {
   "cell_type": "markdown",
   "id": "a27677ac",
   "metadata": {},
   "source": [
    "# Exercise 3: Sum of Nested Lists\n",
    "Write a recursive function that takes a nested list of integers and returns the sum of all the integers."
   ]
  },
  {
   "cell_type": "code",
   "execution_count": 14,
   "id": "41ce19be",
   "metadata": {},
   "outputs": [],
   "source": [
    "def nested_sum(n):\n",
    "    # Input is a list, we can check to do a sum of all the values at each level, if we find they are not as integer we reapply the function\n",
    "    total = 0\n",
    "    \n",
    "    for item in n:\n",
    "        if type(item) == int:\n",
    "            total += item\n",
    "        else:\n",
    "            total += nested_sum(item)\n",
    "    \n",
    "    return total"
   ]
  },
  {
   "cell_type": "code",
   "execution_count": 15,
   "id": "e81445cb",
   "metadata": {},
   "outputs": [
    {
     "data": {
      "text/plain": [
       "21"
      ]
     },
     "execution_count": 15,
     "metadata": {},
     "output_type": "execute_result"
    }
   ],
   "source": [
    "nested_sum([1, [2, [3, 4], 5], 6])"
   ]
  },
  {
   "cell_type": "markdown",
   "id": "6c0e201e",
   "metadata": {},
   "source": [
    "# Exercise 4: Flatten Nested Lists\n",
    "Write a recursive function that takes a nested list and returns a flattened list. Use isinstance() to check the type of each element."
   ]
  },
  {
   "cell_type": "code",
   "execution_count": 31,
   "id": "ae6c1142",
   "metadata": {},
   "outputs": [],
   "source": [
    "def flatten_list(a_list):\n",
    "    flattened_list = []\n",
    "    for item in a_list:\n",
    "        if isinstance(item, list):\n",
    "            flattened_list.extend(flatten_list(item))\n",
    "        else:\n",
    "            flattened_list.append(item)\n",
    "    return flattened_list\n",
    "        "
   ]
  },
  {
   "cell_type": "code",
   "execution_count": 32,
   "id": "faefa496",
   "metadata": {},
   "outputs": [
    {
     "data": {
      "text/plain": [
       "[1, 2, 3, 4, 5, 6]"
      ]
     },
     "execution_count": 32,
     "metadata": {},
     "output_type": "execute_result"
    }
   ],
   "source": [
    "flatten_list([1, [2, [3, 4], 5], 6])"
   ]
  },
  {
   "cell_type": "markdown",
   "id": "0aa517e0",
   "metadata": {},
   "source": [
    "# Exercise 5: Recursive Power Function\n",
    "Write a recursive function to calculate x**n, where x is a float and n is an integer. Use isinstance() to ensure that x is a float and n is an integer before proceeding with the calculation."
   ]
  },
  {
   "cell_type": "code",
   "execution_count": 35,
   "id": "b89a4ed3",
   "metadata": {},
   "outputs": [],
   "source": [
    "def float_power(flt,power):\n",
    "    if isinstance(flt, float) and isinstance(power, int):\n",
    "        if power <= 1:\n",
    "            return flt\n",
    "        else:\n",
    "            return flt * float_power(flt, power-1)\n",
    "    else:\n",
    "        return \"Invalid\""
   ]
  },
  {
   "cell_type": "code",
   "execution_count": 37,
   "id": "774ea84f",
   "metadata": {},
   "outputs": [
    {
     "data": {
      "text/plain": [
       "9.0"
      ]
     },
     "execution_count": 37,
     "metadata": {},
     "output_type": "execute_result"
    }
   ],
   "source": [
    "float_power(3.0,2)"
   ]
  },
  {
   "cell_type": "code",
   "execution_count": 39,
   "id": "9b8a33b9",
   "metadata": {},
   "outputs": [
    {
     "data": {
      "text/plain": [
       "1"
      ]
     },
     "execution_count": 39,
     "metadata": {},
     "output_type": "execute_result"
    }
   ],
   "source": [
    "4**0"
   ]
  },
  {
   "cell_type": "code",
   "execution_count": 40,
   "id": "c0caf470",
   "metadata": {},
   "outputs": [
    {
     "data": {
      "text/plain": [
       "0"
      ]
     },
     "execution_count": 40,
     "metadata": {},
     "output_type": "execute_result"
    }
   ],
   "source": [
    "int(0)"
   ]
  },
  {
   "cell_type": "code",
   "execution_count": 41,
   "id": "f9ae59e9",
   "metadata": {},
   "outputs": [
    {
     "data": {
      "text/plain": [
       "int"
      ]
     },
     "execution_count": 41,
     "metadata": {},
     "output_type": "execute_result"
    }
   ],
   "source": [
    "type(0)"
   ]
  },
  {
   "cell_type": "code",
   "execution_count": 42,
   "id": "a8117889",
   "metadata": {},
   "outputs": [],
   "source": [
    "def float_power(flt, power):\n",
    "    if not isinstance(flt, float) or not isinstance(power, int):\n",
    "        raise TypeError(\"Invalid types for arguments\")\n",
    "    \n",
    "    if power == 0:\n",
    "        return 1.0\n",
    "    elif power == 1:\n",
    "        return flt\n",
    "    else:\n",
    "        return flt * float_power(flt, power - 1)\n"
   ]
  },
  {
   "cell_type": "markdown",
   "id": "22fe4149",
   "metadata": {},
   "source": [
    "# Exercise 6: Reverse a String\n",
    "Write a recursive function to reverse a string. Use isinstance() to ensure that the input is a string before proceeding with the reversal."
   ]
  },
  {
   "cell_type": "code",
   "execution_count": 49,
   "id": "8dd052f8",
   "metadata": {},
   "outputs": [],
   "source": [
    "def reverse_string(strng):\n",
    "    if not isinstance(strng, str):\n",
    "        raise TypeError(\"Invalid input\")\n",
    "        \n",
    "    if len(strng) == 1:\n",
    "        return strng\n",
    "    else:\n",
    "        return strng[-1] + reverse_string(strng[:-1])"
   ]
  },
  {
   "cell_type": "code",
   "execution_count": 50,
   "id": "6e0a2dec",
   "metadata": {},
   "outputs": [
    {
     "data": {
      "text/plain": [
       "'olleh'"
      ]
     },
     "execution_count": 50,
     "metadata": {},
     "output_type": "execute_result"
    }
   ],
   "source": [
    "reverse_string('hello')"
   ]
  },
  {
   "cell_type": "markdown",
   "id": "51715f13",
   "metadata": {},
   "source": [
    "# Exercise 7: Merge Sort\n",
    "Implement the merge sort algorithm using recursion. Merge sort is a divide-and-conquer algorithm that splits an array into smaller arrays, sorts them, and then merges them back together."
   ]
  },
  {
   "cell_type": "code",
   "execution_count": 51,
   "id": "897073ae",
   "metadata": {},
   "outputs": [],
   "source": [
    "unsorted = [3, 1, 4, 1, 5, 9, 2, 6, 5]"
   ]
  },
  {
   "cell_type": "code",
   "execution_count": 58,
   "id": "f8f35f50",
   "metadata": {},
   "outputs": [
    {
     "data": {
      "text/plain": [
       "4"
      ]
     },
     "execution_count": 58,
     "metadata": {},
     "output_type": "execute_result"
    }
   ],
   "source": [
    "int(len(unsorted)/2)"
   ]
  },
  {
   "cell_type": "code",
   "execution_count": 52,
   "id": "7cd08906",
   "metadata": {},
   "outputs": [],
   "source": [
    "next_level = "
   ]
  },
  {
   "cell_type": "code",
   "execution_count": 59,
   "id": "3c8e9713",
   "metadata": {},
   "outputs": [
    {
     "ename": "SyntaxError",
     "evalue": "invalid syntax (3760314071.py, line 10)",
     "output_type": "error",
     "traceback": [
      "\u001b[1;36m  Cell \u001b[1;32mIn[59], line 10\u001b[1;36m\u001b[0m\n\u001b[1;33m    merge_sort(array[:4])merge_sort(array[4:])\u001b[0m\n\u001b[1;37m                         ^\u001b[0m\n\u001b[1;31mSyntaxError\u001b[0m\u001b[1;31m:\u001b[0m invalid syntax\n"
     ]
    }
   ],
   "source": [
    "def merge_sort(array):\n",
    "    \n",
    "\n",
    "    "
   ]
  },
  {
   "cell_type": "code",
   "execution_count": 98,
   "id": "18324097",
   "metadata": {},
   "outputs": [],
   "source": [
    "my_list = [1,5,6,7,3]"
   ]
  },
  {
   "cell_type": "code",
   "execution_count": 1,
   "id": "3b89c08a",
   "metadata": {},
   "outputs": [],
   "source": [
    "def merge_sort(array):\n",
    "\n",
    "    if len(array) <= 1:\n",
    "        return array\n",
    "    else:\n",
    "        middle = int(len(array)/2)\n",
    "        \n",
    "        merged_array = []\n",
    "        \n",
    "        first_half = merge_sort(array[:middle])\n",
    "        second_half = merge_sort(array[middle:])\n",
    "        \n",
    "        pointer1 = 0\n",
    "        pointer2 = 0\n",
    "        \n",
    "        for num in range(0, len(array)):\n",
    "            if pointer1 >= len(first_half):\n",
    "                merged_array.append(second_half[pointer2])\n",
    "                pointer2 +=1\n",
    "            elif pointer2 >= len(second_half):\n",
    "                merged_array.append(first_half[pointer1])\n",
    "                pointer1 += 1\n",
    "            elif first_half[pointer1] <= second_half[pointer2]:\n",
    "                merged_array.append(first_half[pointer1])\n",
    "                pointer1 += 1\n",
    "            elif second_half[pointer2] < first_half[pointer1]:\n",
    "                merged_array.append(second_half[pointer2])\n",
    "                pointer2 +=1\n",
    "                \n",
    "        return merged_array\n",
    "    "
   ]
  },
  {
   "cell_type": "code",
   "execution_count": 2,
   "id": "c6fe1785",
   "metadata": {},
   "outputs": [
    {
     "data": {
      "text/plain": [
       "[5, 7, 23, 32, 34, 62]"
      ]
     },
     "execution_count": 2,
     "metadata": {},
     "output_type": "execute_result"
    }
   ],
   "source": [
    "merge_sort([34, 7, 23, 32, 5, 62])"
   ]
  },
  {
   "cell_type": "markdown",
   "id": "af7110df",
   "metadata": {},
   "source": [
    "# Exercise 8: Binary Search\n",
    "Implement a recursive function to perform binary search on a sorted list. The function should return the index of the target element if it exists in the list, or -1 if it doesn't."
   ]
  },
  {
   "cell_type": "code",
   "execution_count": 18,
   "id": "1da1fac5",
   "metadata": {},
   "outputs": [],
   "source": [
    "def binary_search(array, target, low=0, high=None):\n",
    "    if high is None:\n",
    "        high = len(array) - 1\n",
    "\n",
    "    if low > high:\n",
    "        return -1\n",
    "\n",
    "    middle = (low + high) // 2\n",
    "\n",
    "    if array[middle] == target:\n",
    "        return middle\n",
    "    elif array[middle] > target:\n",
    "        return binary_search(array, target, low, middle - 1)\n",
    "    else:\n",
    "        return binary_search(array, target, middle + 1, high)"
   ]
  },
  {
   "cell_type": "code",
   "execution_count": 19,
   "id": "515872d8",
   "metadata": {},
   "outputs": [
    {
     "data": {
      "text/plain": [
       "3"
      ]
     },
     "execution_count": 19,
     "metadata": {},
     "output_type": "execute_result"
    }
   ],
   "source": [
    "binary_search([1, 3, 5, 7, 9], 7)"
   ]
  },
  {
   "cell_type": "markdown",
   "id": "3d78ecc1",
   "metadata": {},
   "source": [
    "# Exercise 9: Quicksort"
   ]
  },
  {
   "cell_type": "code",
   "execution_count": 9,
   "id": "f4383c31",
   "metadata": {},
   "outputs": [],
   "source": [
    "def quicksort(array):\n",
    "    \n",
    "    if len(array) <= 1:\n",
    "        return array\n",
    "    \n",
    "    pivot = array[0]\n",
    "    current = [elem for elem in array if elem == pivot]\n",
    "    lower = [elem for elem in array[1:] if elem < pivot]\n",
    "    higher = [elem for elem in array[1:] if elem > pivot]    \n",
    "        \n",
    "    return quicksort(lower) + current + quicksort(higher)\n",
    "            "
   ]
  },
  {
   "cell_type": "code",
   "execution_count": 18,
   "id": "b78455df",
   "metadata": {},
   "outputs": [
    {
     "data": {
      "text/plain": [
       "[-6, -5, -3, -1, -1, 2, 3, 4, 5, 5, 9]"
      ]
     },
     "execution_count": 18,
     "metadata": {},
     "output_type": "execute_result"
    }
   ],
   "source": [
    "quicksort([3, -1, 4, -1, -5, 9, 2, -6, 5, -3, 5])"
   ]
  },
  {
   "cell_type": "markdown",
   "id": "dbb17e4a",
   "metadata": {},
   "source": [
    "# Exercise 10: Maximum Subarray Problem\n",
    "Implement the divide-and-conquer algorithm to solve the Maximum Subarray Problem in Python."
   ]
  },
  {
   "cell_type": "code",
   "execution_count": null,
   "id": "f4ad5df2",
   "metadata": {},
   "outputs": [],
   "source": [
    "def max_subarray(array):\n",
    "    \n",
    "    if  len(array) < 1:\n",
    "        return 0\n",
    "    elif len(array) == 1:\n",
    "        return array[0]\n",
    "    \n",
    "    middle = int(len(array)/2)\n",
    "    lower = array[:middle]\n",
    "    higher = array[middle:]\n",
    "    crosspoint = array[middle]\n",
    "    running_total = array[middle]\n",
    "    \n",
    "    for element in lower[::-1]:\n",
    "        running_total + element\n",
    "        if running_total > crosspoint:\n",
    "            crosspoint = running_total\n",
    "    \n",
    "    running_total = crosspoint\n",
    "    \n",
    "    for element in higher:\n",
    "        running_total + element\n",
    "        if running_total > crosspoint:\n",
    "            crosspoint = running_total\n",
    "    \n",
    "    return max(max_subarray(lower), max_subarray(higher), crosspoint)\n",
    "    "
   ]
  }
 ],
 "metadata": {
  "kernelspec": {
   "display_name": "Python 3 (ipykernel)",
   "language": "python",
   "name": "python3"
  },
  "language_info": {
   "codemirror_mode": {
    "name": "ipython",
    "version": 3
   },
   "file_extension": ".py",
   "mimetype": "text/x-python",
   "name": "python",
   "nbconvert_exporter": "python",
   "pygments_lexer": "ipython3",
   "version": "3.11.4"
  }
 },
 "nbformat": 4,
 "nbformat_minor": 5
}
