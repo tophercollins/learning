{
 "cells": [
  {
   "cell_type": "markdown",
   "id": "51d540ae",
   "metadata": {},
   "source": [
    "# Hangman Game!!"
   ]
  },
  {
   "cell_type": "code",
   "execution_count": 9,
   "id": "eb897cbf",
   "metadata": {},
   "outputs": [
    {
     "name": "stdout",
     "output_type": "stream",
     "text": [
      "['_', '_', '_', '_', '_', '_']\n",
      "Choose your next letter:a\n",
      "['_', '_', '_', '_', '_', '_']\n",
      "Choose your next letter:b\n",
      "['_', '_', '_', '_', '_', '_']\n",
      "Choose your next letter:c\n",
      "['_', '_', '_', '_', '_', '_']\n",
      "Choose your next letter:d\n",
      "['_', '_', '_', '_', '_', '_']\n",
      "Choose your next letter:e\n",
      "['_', '_', '_', '_', 'E', '_']\n",
      "Choose your next letter:t\n",
      "['_', '_', '_', '_', 'E', '_']\n",
      "Choose your next letter:y\n",
      "['_', '_', '_', '_', 'E', 'Y']\n",
      "Choose your next letter:l\n",
      "You Lost! Your hangman died!\n"
     ]
    },
    {
     "ename": "KeyboardInterrupt",
     "evalue": "Interrupted by user",
     "output_type": "error",
     "traceback": [
      "\u001b[1;31m---------------------------------------------------------------------------\u001b[0m",
      "\u001b[1;31mKeyboardInterrupt\u001b[0m                         Traceback (most recent call last)",
      "Cell \u001b[1;32mIn[9], line 37\u001b[0m\n\u001b[0;32m     35\u001b[0m \u001b[38;5;28;01mwhile\u001b[39;00m infinite_loop:\n\u001b[0;32m     36\u001b[0m     game(random\u001b[38;5;241m.\u001b[39mchoice(word_list)) \n\u001b[1;32m---> 37\u001b[0m     \u001b[38;5;28minput\u001b[39m(\u001b[38;5;124m'\u001b[39m\u001b[38;5;130;01m\\n\u001b[39;00m\u001b[38;5;130;01m\\n\u001b[39;00m\u001b[38;5;124mWould you like to play again?\u001b[39m\u001b[38;5;124m'\u001b[39m)\n",
      "File \u001b[1;32mC:\\ProgramData\\miniconda3\\envs\\learning-environment\\Lib\\site-packages\\ipykernel\\kernelbase.py:1202\u001b[0m, in \u001b[0;36mKernel.raw_input\u001b[1;34m(self, prompt)\u001b[0m\n\u001b[0;32m   1200\u001b[0m     msg \u001b[38;5;241m=\u001b[39m \u001b[38;5;124m\"\u001b[39m\u001b[38;5;124mraw_input was called, but this frontend does not support input requests.\u001b[39m\u001b[38;5;124m\"\u001b[39m\n\u001b[0;32m   1201\u001b[0m     \u001b[38;5;28;01mraise\u001b[39;00m StdinNotImplementedError(msg)\n\u001b[1;32m-> 1202\u001b[0m \u001b[38;5;28;01mreturn\u001b[39;00m \u001b[38;5;28mself\u001b[39m\u001b[38;5;241m.\u001b[39m_input_request(\n\u001b[0;32m   1203\u001b[0m     \u001b[38;5;28mstr\u001b[39m(prompt),\n\u001b[0;32m   1204\u001b[0m     \u001b[38;5;28mself\u001b[39m\u001b[38;5;241m.\u001b[39m_parent_ident[\u001b[38;5;124m\"\u001b[39m\u001b[38;5;124mshell\u001b[39m\u001b[38;5;124m\"\u001b[39m],\n\u001b[0;32m   1205\u001b[0m     \u001b[38;5;28mself\u001b[39m\u001b[38;5;241m.\u001b[39mget_parent(\u001b[38;5;124m\"\u001b[39m\u001b[38;5;124mshell\u001b[39m\u001b[38;5;124m\"\u001b[39m),\n\u001b[0;32m   1206\u001b[0m     password\u001b[38;5;241m=\u001b[39m\u001b[38;5;28;01mFalse\u001b[39;00m,\n\u001b[0;32m   1207\u001b[0m )\n",
      "File \u001b[1;32mC:\\ProgramData\\miniconda3\\envs\\learning-environment\\Lib\\site-packages\\ipykernel\\kernelbase.py:1245\u001b[0m, in \u001b[0;36mKernel._input_request\u001b[1;34m(self, prompt, ident, parent, password)\u001b[0m\n\u001b[0;32m   1242\u001b[0m \u001b[38;5;28;01mexcept\u001b[39;00m \u001b[38;5;167;01mKeyboardInterrupt\u001b[39;00m:\n\u001b[0;32m   1243\u001b[0m     \u001b[38;5;66;03m# re-raise KeyboardInterrupt, to truncate traceback\u001b[39;00m\n\u001b[0;32m   1244\u001b[0m     msg \u001b[38;5;241m=\u001b[39m \u001b[38;5;124m\"\u001b[39m\u001b[38;5;124mInterrupted by user\u001b[39m\u001b[38;5;124m\"\u001b[39m\n\u001b[1;32m-> 1245\u001b[0m     \u001b[38;5;28;01mraise\u001b[39;00m \u001b[38;5;167;01mKeyboardInterrupt\u001b[39;00m(msg) \u001b[38;5;28;01mfrom\u001b[39;00m \u001b[38;5;28;01mNone\u001b[39;00m\n\u001b[0;32m   1246\u001b[0m \u001b[38;5;28;01mexcept\u001b[39;00m \u001b[38;5;167;01mException\u001b[39;00m:\n\u001b[0;32m   1247\u001b[0m     \u001b[38;5;28mself\u001b[39m\u001b[38;5;241m.\u001b[39mlog\u001b[38;5;241m.\u001b[39mwarning(\u001b[38;5;124m\"\u001b[39m\u001b[38;5;124mInvalid Message:\u001b[39m\u001b[38;5;124m\"\u001b[39m, exc_info\u001b[38;5;241m=\u001b[39m\u001b[38;5;28;01mTrue\u001b[39;00m)\n",
      "\u001b[1;31mKeyboardInterrupt\u001b[0m: Interrupted by user"
     ]
    }
   ],
   "source": [
    "import random\n",
    "\n",
    "word_list = ['orange','monkey','dynamite','politics','library']\n",
    "\n",
    "def game(word):\n",
    "    \n",
    "    playing = True\n",
    "    life = 6\n",
    "    display_word = []\n",
    "    wrong_letters = []\n",
    "    for letter in word:\n",
    "        display_word += ['_']\n",
    "    \n",
    "    while playing:\n",
    "        print('\\nWord:')\n",
    "        print(display_word)\n",
    "        print('\\nWrong Letters:')\n",
    "        print(wrong_letters)\n",
    "        print(f'Current Lives: {life}')\n",
    "    \n",
    "        user_letter = input('Choose your next letter:').lower()\n",
    "        if user_letter in word:\n",
    "            for index, letter in enumerate(word):\n",
    "                if letter == user_letter:\n",
    "                    display_word[index] = letter.upper()\n",
    "            if '_' not in display_word:\n",
    "                print('You Win! You found the missing word!')\n",
    "                return True\n",
    "        else:\n",
    "            life -= 1\n",
    "            wrong_letters += [letter.upper()]\n",
    "            \n",
    "            if life <= 0:\n",
    "                print('You Lost! Your hangman died!')\n",
    "                return True\n",
    "\n",
    "\n",
    "infinite_loop = True\n",
    "\n",
    "while infinite_loop:\n",
    "    game(random.choice(word_list)) \n",
    "    input('\\n\\nWould you like to play again?')\n",
    "                   \n",
    "    "
   ]
  },
  {
   "cell_type": "code",
   "execution_count": null,
   "id": "6494de79",
   "metadata": {},
   "outputs": [],
   "source": []
  }
 ],
 "metadata": {
  "kernelspec": {
   "display_name": "Python 3 (ipykernel)",
   "language": "python",
   "name": "python3"
  },
  "language_info": {
   "codemirror_mode": {
    "name": "ipython",
    "version": 3
   },
   "file_extension": ".py",
   "mimetype": "text/x-python",
   "name": "python",
   "nbconvert_exporter": "python",
   "pygments_lexer": "ipython3",
   "version": "3.11.4"
  }
 },
 "nbformat": 4,
 "nbformat_minor": 5
}
