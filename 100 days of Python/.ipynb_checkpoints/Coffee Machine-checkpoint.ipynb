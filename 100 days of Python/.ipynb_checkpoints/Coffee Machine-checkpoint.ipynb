{
 "cells": [
  {
   "cell_type": "markdown",
   "id": "bfd626a7",
   "metadata": {},
   "source": [
    "# Requirments\n",
    "\n",
    "1. Report\n",
    "2. Check supplies\n",
    "3. Process coins\n",
    "4. Check successful\n",
    "5. Give coffee"
   ]
  },
  {
   "cell_type": "code",
   "execution_count": 7,
   "id": "dab50967",
   "metadata": {
    "scrolled": false
   },
   "outputs": [],
   "source": [
    "# Setup\n",
    "\n",
    "machine_running = True\n",
    "resources = {'water': 500,\n",
    "             'milk': 300,\n",
    "             'coffee': 100,\n",
    "             'money': 0.0}\n",
    "menu = {'espresso': {\n",
    "                    'ingredients': {\n",
    "                        'water': 50,\n",
    "                        'coffee': 18\n",
    "                    },\n",
    "                    'cost': 1.5,\n",
    "        },\n",
    "        'latte': {\n",
    "                    'ingredients': {\n",
    "                        'water': 200,\n",
    "                        'milk': 150,\n",
    "                        'coffee': 24\n",
    "                    },\n",
    "                    'cost': 2.5,\n",
    "        },\n",
    "        'cappuccino': {\n",
    "                    'ingredients': {\n",
    "                        'water': 250,\n",
    "                        'milk': 100,\n",
    "                        'coffee': 24\n",
    "                    },\n",
    "                    'cost': 3.0,\n",
    "        }\n",
    "    }\n",
    "        \n",
    "def check_resources(drink):\n",
    "    \n",
    "    missing_resources = ''\n",
    "    \n",
    "    for key,value in menu[drink]['ingredients'].items():\n",
    "        if resources[key] < value:\n",
    "            missing_resources += ' ' + str(key)\n",
    "    return missing_resources\n",
    "\n",
    "def enter_coins(drink):\n",
    "    price = menu[drink]['cost']\n",
    "    print(f'Your drink costs {price}, please enter coins here:')\n",
    "    quarters = input('Quarters:')\n",
    "    dimes = input('Dimes:')\n",
    "    nikels = input('Nikels:')\n",
    "    cents = input('Cents:')\n",
    "    \n",
    "    total_entered = int(quarters)*0.25 + int(dimes)*0.10 + int(nikels)*0.05 + int(cents)*0.01\n",
    "    \n",
    "    if total_entered < price:\n",
    "        print(\"Sorry that's not enough money. Money refunded.\")\n",
    "        return False\n",
    "    else:\n",
    "        resources['money'] += price\n",
    "        if total_entered > price:\n",
    "            print(f'Here is ${total_entered-price:.2f} change.')\n",
    "        return True\n",
    "    \n",
    "def make_coffee(drink):\n",
    "    for key,value in menu[drink]['ingredients'].items():\n",
    "        resources[key] -= value\n",
    "    print(f'Here is your {drink}. Enjoy!')"
   ]
  },
  {
   "cell_type": "code",
   "execution_count": null,
   "id": "946f5cf4",
   "metadata": {},
   "outputs": [
    {
     "name": "stdout",
     "output_type": "stream",
     "text": [
      "What would you like? (espresso/latte/cappuccino):latte\n",
      "Your drink costs 2.5, please enter coins here:\n",
      "Quarters:7\n",
      "Dimes:9\n",
      "Nikels:23\n",
      "Cents:123123\n",
      "Here is $1232.53 change.\n",
      "Here is your latte. Enjoy!\n"
     ]
    }
   ],
   "source": [
    "# Machine Loop\n",
    "\n",
    "while machine_running:\n",
    "\n",
    "    # Prompt\n",
    "\n",
    "    user_input = input(\"What would you like? (espresso/latte/cappuccino):\").lower()\n",
    "    \n",
    "    if user_input == \"off\":\n",
    "        machine_running = False\n",
    "    elif user_input == \"report\":\n",
    "        print(f\"Water: {resources['water']}ml\\nMilk: {resources['milk']}ml\\nCoffee: {resources['coffee']}g\\nMoney: ${resources['money']}\\n\")\n",
    "    elif user_input == 'espresso' or user_input == 'latte' or user_input == 'cappuccino':\n",
    "        missing_check = check_resources(user_input)\n",
    "        if missing_check != '':\n",
    "            print(f'Sorry there is not enough:{missing_check}')\n",
    "        else:\n",
    "            success = enter_coins(user_input)\n",
    "            if success == True:\n",
    "                make_coffee(user_input)\n",
    "                  \n",
    "    else:\n",
    "        # Wrong input\n",
    "        print('Wrong input, try again.')"
   ]
  },
  {
   "cell_type": "code",
   "execution_count": null,
   "id": "c62e4c5c",
   "metadata": {},
   "outputs": [],
   "source": []
  }
 ],
 "metadata": {
  "kernelspec": {
   "display_name": "Python 3 (ipykernel)",
   "language": "python",
   "name": "python3"
  },
  "language_info": {
   "codemirror_mode": {
    "name": "ipython",
    "version": 3
   },
   "file_extension": ".py",
   "mimetype": "text/x-python",
   "name": "python",
   "nbconvert_exporter": "python",
   "pygments_lexer": "ipython3",
   "version": "3.11.4"
  }
 },
 "nbformat": 4,
 "nbformat_minor": 5
}
