{
 "cells": [
  {
   "cell_type": "code",
   "execution_count": 1,
   "id": "0afa5223",
   "metadata": {},
   "outputs": [],
   "source": [
    "def solution(t, x, y):\n",
    "    \n",
    "    check_multiplier = True\n",
    "    y_to_power_of = 1\n",
    "    \n",
    "    while check_multiplier:\n",
    "        if y**y_to_power_of > t:\n",
    "            check_multiplier = False\n",
    "            y_to_power_of -= 1\n",
    "        elif y**y_to_power_of == t:\n",
    "            return [\"operator_add 0\", f\"operator_multiply {y_to_power_of}\"]\n",
    "        else:\n",
    "            y_to_power_of +=1\n",
    "    \n",
    "    checking = True\n",
    "    \n",
    "    while checking:\n",
    "        if y_to_power_of == 0:\n",
    "            return [\"no_solution\"]\n",
    "        else:  \n",
    "            check_addition = True\n",
    "            x_times = 1\n",
    "            \n",
    "            while check_addition:\n",
    "                if (1 + x*x_times) * y**y_to_power_of  > t:\n",
    "                    check_addition = False\n",
    "                    x_times -= 1\n",
    "                elif (1 + x*x_times) * y**y_to_power_of == t:\n",
    "                    return [f\"operator_add {x_times}\", f\"operator_multiply {y_to_power_of}\"] \n",
    "                else:\n",
    "                    x_times += 1\n",
    "                    \n",
    "            y_to_power_of -= 1"
   ]
  },
  {
   "cell_type": "code",
   "execution_count": 10,
   "id": "ddc92850",
   "metadata": {},
   "outputs": [
    {
     "data": {
      "text/plain": [
       "['operator_add 244140624', 'operator_multiply 12']"
      ]
     },
     "execution_count": 10,
     "metadata": {},
     "output_type": "execute_result"
    }
   ],
   "source": [
    "solution(1000000000000,1,2)"
   ]
  },
  {
   "cell_type": "code",
   "execution_count": null,
   "id": "87a064f7",
   "metadata": {},
   "outputs": [],
   "source": []
  }
 ],
 "metadata": {
  "kernelspec": {
   "display_name": "Python 3 (ipykernel)",
   "language": "python",
   "name": "python3"
  },
  "language_info": {
   "codemirror_mode": {
    "name": "ipython",
    "version": 3
   },
   "file_extension": ".py",
   "mimetype": "text/x-python",
   "name": "python",
   "nbconvert_exporter": "python",
   "pygments_lexer": "ipython3",
   "version": "3.11.4"
  }
 },
 "nbformat": 4,
 "nbformat_minor": 5
}
